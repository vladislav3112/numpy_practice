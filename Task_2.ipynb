{
 "cells": [
  {
   "cell_type": "markdown",
   "metadata": {},
   "source": [
    "# Задание 2.\n",
    "\n",
    "**NB. Все упражнения ниже нужно делать без использования циклов Python в явном (`while`, `for`) и неявном виде (list comprehension, `map`, `reduce` и пр)**\n",
    "\n",
    "Задания по манипуляциям с массивами чаще всего решаются в одно/два выражения. "
   ]
  },
  {
   "cell_type": "code",
   "execution_count": 2,
   "metadata": {},
   "outputs": [
    {
     "data": {
      "text/plain": [
       "array([[78, 94, 85, ..., 18, 88, 58],\n",
       "       [51, 27, 29, ..., 97, 18, 28],\n",
       "       [82, 80, 21, ..., 40, 11, 57],\n",
       "       ...,\n",
       "       [25,  3, 68, ..., 89, 44, 26],\n",
       "       [90, 81, 80, ..., 55, 12, 20],\n",
       "       [51, 87, 50, ...,  3, 53, 26]])"
      ]
     },
     "execution_count": 2,
     "metadata": {},
     "output_type": "execute_result"
    }
   ],
   "source": [
    "%matplotlib inline\n",
    "\n",
    "import numpy as np\n",
    "import matplotlib.pyplot as plt\n",
    "import seaborn as sns\n",
    "sns.set_theme()\n",
    "\n",
    "A = np.random.randint(0, 100, size=(200, 50))\n",
    "A"
   ]
  },
  {
   "cell_type": "markdown",
   "metadata": {},
   "source": [
    "# Задание 2.1 (2 балла)\n",
    "\n",
    "Сгенерируйте новый массив, в котором столбцы массива `A` переставлены в случайном порядке"
   ]
  },
  {
   "cell_type": "code",
   "execution_count": 3,
   "metadata": {},
   "outputs": [
    {
     "name": "stdout",
     "output_type": "stream",
     "text": [
      "[[48 13 53 ... 49 58  4]\n",
      " [54 67 43 ...  9 28 50]\n",
      " [70 17 91 ... 67 57 81]\n",
      " ...\n",
      " [46 13 51 ... 83 26 26]\n",
      " [93 98 63 ... 97 20 54]\n",
      " [36 25 26 ... 46 26 40]]\n"
     ]
    }
   ],
   "source": [
    "A_shuffled = A.copy()\n",
    "np.random.shuffle(A_shuffled.T)\n",
    "print(A_shuffled)"
   ]
  },
  {
   "cell_type": "markdown",
   "metadata": {},
   "source": [
    "# Задание 2.2 (5 баллов)\n",
    "\n",
    "Сгенерируйте новый массив, который содержит только те строки массива `A`, в которых: \n",
    "- сумма элементов по четным столбцам (индексы $0, 2, \\ldots$) больше среднего значения (по всему массиву) суммы элементов по нечетным столбцам (индексы $1, 3, \\ldots$) "
   ]
  },
  {
   "cell_type": "code",
   "execution_count": 4,
   "metadata": {},
   "outputs": [
    {
     "data": {
      "text/plain": [
       "array([[[78, 94, 85, ..., 18, 88, 58],\n",
       "        [51, 27, 29, ..., 97, 18, 28],\n",
       "        [82, 80, 21, ..., 40, 11, 57],\n",
       "        ...,\n",
       "        [25,  3, 68, ..., 89, 44, 26],\n",
       "        [90, 81, 80, ..., 55, 12, 20],\n",
       "        [51, 87, 50, ...,  3, 53, 26]]])"
      ]
     },
     "execution_count": 4,
     "metadata": {},
     "output_type": "execute_result"
    }
   ],
   "source": [
    "A_new = A[np.sum(A[::2]) > np.sum(A[-1::2]).mean()]\n",
    "A_new"
   ]
  },
  {
   "cell_type": "markdown",
   "metadata": {},
   "source": [
    "# Задача 2.3 (3 балла)\n",
    "\n",
    "Найдите индекс строки массива `A`, в которой разница между максимальным и минимальным элементом максимальна"
   ]
  },
  {
   "cell_type": "code",
   "execution_count": 5,
   "metadata": {},
   "outputs": [
    {
     "data": {
      "text/plain": [
       "array([[  1,  47],\n",
       "       [  3,  22],\n",
       "       [  3,  29],\n",
       "       [  3,  44],\n",
       "       [  4,  27],\n",
       "       [  6,  22],\n",
       "       [  6,  34],\n",
       "       [  9,  40],\n",
       "       [ 10,  16],\n",
       "       [ 12,   1],\n",
       "       [ 13,  46],\n",
       "       [ 14,  42],\n",
       "       [ 18,  38],\n",
       "       [ 19,  20],\n",
       "       [ 20,  31],\n",
       "       [ 22,  26],\n",
       "       [ 22,  36],\n",
       "       [ 23,   6],\n",
       "       [ 23,  37],\n",
       "       [ 24,  23],\n",
       "       [ 26,   7],\n",
       "       [ 28,   5],\n",
       "       [ 28,  19],\n",
       "       [ 28,  40],\n",
       "       [ 28,  41],\n",
       "       [ 30,  45],\n",
       "       [ 37,  15],\n",
       "       [ 38,  38],\n",
       "       [ 39,  35],\n",
       "       [ 45,  13],\n",
       "       [ 45,  25],\n",
       "       [ 45,  49],\n",
       "       [ 50,   6],\n",
       "       [ 51,  43],\n",
       "       [ 55,   2],\n",
       "       [ 61,  21],\n",
       "       [ 61,  26],\n",
       "       [ 64,  12],\n",
       "       [ 66,  25],\n",
       "       [ 67,  15],\n",
       "       [ 67,  23],\n",
       "       [ 68,  29],\n",
       "       [ 68,  45],\n",
       "       [ 70,   7],\n",
       "       [ 73,  23],\n",
       "       [ 74,  20],\n",
       "       [ 79,  36],\n",
       "       [ 87,  15],\n",
       "       [ 88,  31],\n",
       "       [ 89,  46],\n",
       "       [ 90,   0],\n",
       "       [ 90,   8],\n",
       "       [ 91,  11],\n",
       "       [ 93,  48],\n",
       "       [ 95,   8],\n",
       "       [ 96,   9],\n",
       "       [ 99,   0],\n",
       "       [ 99,  36],\n",
       "       [107,  21],\n",
       "       [108,   1],\n",
       "       [111,  19],\n",
       "       [111,  26],\n",
       "       [112,  31],\n",
       "       [114,   0],\n",
       "       [114,  42],\n",
       "       [117,   7],\n",
       "       [119,  16],\n",
       "       [119,  36],\n",
       "       [121,   7],\n",
       "       [123,  13],\n",
       "       [126,   1],\n",
       "       [134,  26],\n",
       "       [134,  37],\n",
       "       [135,  24],\n",
       "       [142,  40],\n",
       "       [143,  44],\n",
       "       [144,  13],\n",
       "       [147,  32],\n",
       "       [149,  34],\n",
       "       [150,   6],\n",
       "       [150,  19],\n",
       "       [151,   8],\n",
       "       [154,   0],\n",
       "       [154,  14],\n",
       "       [154,  29],\n",
       "       [156,  41],\n",
       "       [158,  45],\n",
       "       [164,  23],\n",
       "       [165,  34],\n",
       "       [166,  15],\n",
       "       [167,  40],\n",
       "       [168,  13],\n",
       "       [169,   1],\n",
       "       [169,  34],\n",
       "       [169,  48],\n",
       "       [171,   9],\n",
       "       [171,  16],\n",
       "       [172,  16],\n",
       "       [172,  38],\n",
       "       [173,  10],\n",
       "       [173,  32],\n",
       "       [180,  37],\n",
       "       [181,   7],\n",
       "       [187,  32],\n",
       "       [193,   1],\n",
       "       [197,   5],\n",
       "       [197,  33],\n",
       "       [198,  37],\n",
       "       [198,  43]], dtype=int64)"
      ]
     },
     "execution_count": 5,
     "metadata": {},
     "output_type": "execute_result"
    }
   ],
   "source": [
    "rows_idx = np.argwhere(A == max(A[A.max()-A.min()]))\n",
    "rows_idx"
   ]
  },
  {
   "cell_type": "markdown",
   "metadata": {},
   "source": [
    "# Задание 2.4 (7 баллов)\n",
    "\n",
    "Сгенерируйте массив той же размерности, что и `A`, но в котором каждый элемент заменен на его порядковый номер (начиная с 1) в отсортированном по возрастанию массиве из элементов `A`\n",
    "\n",
    "Если `A` выглядит так:\n",
    "$$\n",
    "\\begin{pmatrix}\n",
    "12 & 14\\\\\n",
    "1 & 2\n",
    "\\end{pmatrix}\n",
    "$$\n",
    "то результат должен быть\n",
    "$$\n",
    "\\begin{pmatrix}\n",
    "3 & 4\\\\\n",
    "1 & 2\n",
    "\\end{pmatrix}\n",
    "$$\n",
    "\n",
    "*Tip: рассмотрите возможность неоднократного применения [argsort()](https://numpy.org/doc/stable/reference/generated/numpy.ndarray.argsort.html)*"
   ]
  },
  {
   "cell_type": "code",
   "execution_count": 6,
   "metadata": {},
   "outputs": [
    {
     "data": {
      "text/plain": [
       "array([[4541, 8427, 2930, ...,  533, 2437, 1117],\n",
       "       [9080, 2130, 5157, ..., 7188,  210, 3642],\n",
       "       [ 691, 9115, 2858, ..., 1088, 7528, 2738],\n",
       "       ...,\n",
       "       [7782, 7012, 4109, ..., 7684, 6697, 8433],\n",
       "       [8602, 5135, 3354, ..., 9563, 5803, 6315],\n",
       "       [1082, 1094, 4066, ..., 1778, 8613, 4011]], dtype=int64)"
      ]
     },
     "execution_count": 6,
     "metadata": {},
     "output_type": "execute_result"
    }
   ],
   "source": [
    "np.argsort(A,axis=None).reshape(A.shape) + 1"
   ]
  },
  {
   "cell_type": "markdown",
   "metadata": {},
   "source": [
    "# Задание 2.5 (2 балла)\n",
    "\n",
    "Примените $\\min-\\max$ - нормализацию к строкам массива `A`. То есть нужно получить новый массивы, в каждой строке которого максимальный элементы равен $1$, минимальный - $0$. "
   ]
  },
  {
   "cell_type": "code",
   "execution_count": 7,
   "metadata": {},
   "outputs": [
    {
     "data": {
      "text/plain": [
       "array([[0.78787879, 0.94949495, 0.85858586, ..., 0.18181818, 0.88888889,\n",
       "        0.58585859],\n",
       "       [0.51515152, 0.27272727, 0.29292929, ..., 0.97979798, 0.18181818,\n",
       "        0.28282828],\n",
       "       [0.82828283, 0.80808081, 0.21212121, ..., 0.4040404 , 0.11111111,\n",
       "        0.57575758],\n",
       "       ...,\n",
       "       [0.25252525, 0.03030303, 0.68686869, ..., 0.8989899 , 0.44444444,\n",
       "        0.26262626],\n",
       "       [0.90909091, 0.81818182, 0.80808081, ..., 0.55555556, 0.12121212,\n",
       "        0.2020202 ],\n",
       "       [0.51515152, 0.87878788, 0.50505051, ..., 0.03030303, 0.53535354,\n",
       "        0.26262626]])"
      ]
     },
     "execution_count": 7,
     "metadata": {},
     "output_type": "execute_result"
    }
   ],
   "source": [
    "(A - A.min())/(A.max() - A.min())"
   ]
  },
  {
   "cell_type": "markdown",
   "metadata": {},
   "source": [
    "# Задание 2.6 (2 балла)\n",
    "\n",
    "Сгенерируйте новый трехмерный массив, размерности $10 \\times 200 \\times 50$. Подмассивы по нулевой оси должны состоять из элементов `A`, умноженных на $1 - 10$ соответственно"
   ]
  },
  {
   "cell_type": "code",
   "execution_count": 48,
   "metadata": {},
   "outputs": [
    {
     "data": {
      "text/plain": [
       "array([[[ 78, 156, 234, ..., 624, 702, 780],\n",
       "        [ 94, 188, 282, ..., 752, 846, 940],\n",
       "        [ 85, 170, 255, ..., 680, 765, 850],\n",
       "        ...,\n",
       "        [ 18,  36,  54, ..., 144, 162, 180],\n",
       "        [ 88, 176, 264, ..., 704, 792, 880],\n",
       "        [ 58, 116, 174, ..., 464, 522, 580]],\n",
       "\n",
       "       [[ 51, 102, 153, ..., 408, 459, 510],\n",
       "        [ 27,  54,  81, ..., 216, 243, 270],\n",
       "        [ 29,  58,  87, ..., 232, 261, 290],\n",
       "        ...,\n",
       "        [ 97, 194, 291, ..., 776, 873, 970],\n",
       "        [ 18,  36,  54, ..., 144, 162, 180],\n",
       "        [ 28,  56,  84, ..., 224, 252, 280]],\n",
       "\n",
       "       [[ 82, 164, 246, ..., 656, 738, 820],\n",
       "        [ 80, 160, 240, ..., 640, 720, 800],\n",
       "        [ 21,  42,  63, ..., 168, 189, 210],\n",
       "        ...,\n",
       "        [ 40,  80, 120, ..., 320, 360, 400],\n",
       "        [ 11,  22,  33, ...,  88,  99, 110],\n",
       "        [ 57, 114, 171, ..., 456, 513, 570]],\n",
       "\n",
       "       ...,\n",
       "\n",
       "       [[ 25,  50,  75, ..., 200, 225, 250],\n",
       "        [  3,   6,   9, ...,  24,  27,  30],\n",
       "        [ 68, 136, 204, ..., 544, 612, 680],\n",
       "        ...,\n",
       "        [ 89, 178, 267, ..., 712, 801, 890],\n",
       "        [ 44,  88, 132, ..., 352, 396, 440],\n",
       "        [ 26,  52,  78, ..., 208, 234, 260]],\n",
       "\n",
       "       [[ 90, 180, 270, ..., 720, 810, 900],\n",
       "        [ 81, 162, 243, ..., 648, 729, 810],\n",
       "        [ 80, 160, 240, ..., 640, 720, 800],\n",
       "        ...,\n",
       "        [ 55, 110, 165, ..., 440, 495, 550],\n",
       "        [ 12,  24,  36, ...,  96, 108, 120],\n",
       "        [ 20,  40,  60, ..., 160, 180, 200]],\n",
       "\n",
       "       [[ 51, 102, 153, ..., 408, 459, 510],\n",
       "        [ 87, 174, 261, ..., 696, 783, 870],\n",
       "        [ 50, 100, 150, ..., 400, 450, 500],\n",
       "        ...,\n",
       "        [  3,   6,   9, ...,  24,  27,  30],\n",
       "        [ 53, 106, 159, ..., 424, 477, 530],\n",
       "        [ 26,  52,  78, ..., 208, 234, 260]]])"
      ]
     },
     "execution_count": 48,
     "metadata": {},
     "output_type": "execute_result"
    }
   ],
   "source": [
    "np.multiply.outer(A,np.array([1,2,3,4,5,6,7,8,9,10]))"
   ]
  },
  {
   "cell_type": "markdown",
   "metadata": {},
   "source": [
    "# Задание 2.7 (2 балла)\n",
    "\n",
    "Создайте новый массив, такой же размерности, как и `A`, в котором сначала сгруппированы четные столбцы `A`, потом  нечетные. Используйте [np.concat()](https://numpy.org/doc/stable/reference/generated/numpy.concatenate.html) "
   ]
  },
  {
   "cell_type": "code",
   "execution_count": 9,
   "metadata": {},
   "outputs": [
    {
     "data": {
      "text/plain": [
       "array([[78, 51, 82, ..., 25, 90, 51],\n",
       "       [85, 29, 21, ..., 68, 80, 50],\n",
       "       [53, 43, 91, ..., 51, 63, 26],\n",
       "       ...,\n",
       "       [53, 17, 66, ..., 84, 65, 31],\n",
       "       [88, 18, 11, ..., 44, 12, 53],\n",
       "       [58, 28, 57, ..., 26, 20, 26]])"
      ]
     },
     "execution_count": 9,
     "metadata": {},
     "output_type": "execute_result"
    }
   ],
   "source": [
    "res = np.concatenate((A.T[::2],A.T[-1::2]))\n",
    "res"
   ]
  },
  {
   "cell_type": "markdown",
   "metadata": {},
   "source": [
    "# Задание 2.8 (2 балла)\n",
    "\n",
    "Посчитайте количество строк массива `A`, в который все элементы больше 5. Используйте [np.all()](https://numpy.org/doc/stable/reference/generated/numpy.all.html) "
   ]
  },
  {
   "cell_type": "code",
   "execution_count": 10,
   "metadata": {},
   "outputs": [
    {
     "data": {
      "text/plain": [
       "9405"
      ]
     },
     "execution_count": 10,
     "metadata": {},
     "output_type": "execute_result"
    }
   ],
   "source": [
    "len(A[A > 5])"
   ]
  },
  {
   "cell_type": "markdown",
   "metadata": {},
   "source": [
    "# Задание 2.9 (2 балла)\n",
    "\n",
    "Поделите массив `A` горизонтально на 10 частей и создайте новый массив размерности $20 \\times 50$, который состоит из средних этих частей. Используйте [np.split()](https://numpy.org/doc/stable/reference/generated/numpy.split.html)"
   ]
  },
  {
   "cell_type": "code",
   "execution_count": 11,
   "metadata": {},
   "outputs": [
    {
     "data": {
      "text/plain": [
       "array([[61.3, 57.8, 43.7, 47.7, 57.9, 48.3, 63.4, 40. , 55.4, 49.3, 43.7,\n",
       "        58.7, 60.5, 66.8, 48.1, 43. , 45.6, 39.1, 42.8, 52.2, 57.3, 57.3,\n",
       "        55.5, 33.1, 35.8, 47.8, 57.2, 43.9, 39.8, 54.6, 42.8, 52.3, 46.9,\n",
       "        67.2, 68.3, 37.4, 37.4, 70.1, 53.5, 56.9, 43.6, 45.6, 48.2, 45.6,\n",
       "        61.2, 48.2, 42.7, 52.8, 51.9, 48.8],\n",
       "       [58.1, 49.6, 46.1, 48. , 52.9, 39.3, 48.1, 52.1, 46.3, 39.1, 55.1,\n",
       "        50.8, 44. , 49.1, 67.1, 39.9, 52.8, 50.3, 54.6, 43.5, 46. , 52. ,\n",
       "        37.5, 43.7, 59.9, 46.4, 52.9, 38.1, 74. , 37.2, 59. , 59. , 51.6,\n",
       "        46.5, 17.7, 52.3, 48.2, 38.1, 58. , 44.6, 45.9, 27.9, 56.3, 45.6,\n",
       "        41.6, 52.1, 48.3, 70.4, 42.6, 43.8],\n",
       "       [59. , 43. , 48. , 44.3, 60. , 39.7, 54.7, 40.9, 63.5, 51.6, 40.7,\n",
       "        53.6, 63.2, 38.7, 44.6, 50.2, 51. , 50.8, 55.7, 56.3, 43.3, 50.9,\n",
       "        54.8, 46.6, 46.2, 71.9, 44.9, 48. , 56.7, 44.4, 38. , 51.6, 58.4,\n",
       "        45.4, 56.6, 43. , 63.6, 49. , 45.4, 57.2, 63.1, 60.1, 66.2, 53.9,\n",
       "        42.6, 65.3, 47.8, 42.4, 42.4, 42.9],\n",
       "       [53.3, 37.8, 54.7, 68.6, 64.3, 48.1, 46.2, 51.5, 56.8, 54. , 64.8,\n",
       "        49.3, 54.4, 56.1, 47.2, 48.5, 37. , 48.3, 47.4, 58.9, 60.4, 35.3,\n",
       "        62.1, 50.8, 36.2, 58.5, 38.2, 61.6, 56.4, 55.9, 54.1, 38.9, 28.6,\n",
       "        46.1, 73.6, 44. , 46.1, 43.3, 54.4, 67.8, 29.4, 56.9, 53.9, 33.6,\n",
       "        41.8, 45.9, 55. , 40.7, 64.2, 62.5],\n",
       "       [44.1, 42.3, 37.6, 37. , 49.8, 37. , 41.6, 39.3, 37.1, 38.9, 54.3,\n",
       "        41.1, 59.4, 58.8, 40.2, 47.6, 48.2, 35.5, 50.3, 49.3, 65.5, 56.3,\n",
       "        50.2, 52.4, 44.3, 39.8, 46.1, 57.4, 59. , 48.3, 53.9, 63. , 59.4,\n",
       "        49.3, 62.7, 65.9, 54.1, 56.1, 53.5, 50.3, 38.5, 29. , 59.5, 48.3,\n",
       "        52.5, 61.2, 28.1, 36.8, 62.5, 33.2],\n",
       "       [48.7, 44. , 50.5, 50. , 42.5, 48.1, 50.4, 52.1, 41.2, 45. , 45.2,\n",
       "        46. , 67.1, 39.2, 54.5, 47.4, 45.7, 61. , 43.6, 46.8, 55.3, 57.6,\n",
       "        69.9, 70.7, 58.3, 60.1, 51. , 47.4, 50.2, 39.2, 65. , 60. , 37.3,\n",
       "        59.9, 51. , 52.8, 43.5, 47.8, 49.1, 41.5, 60.5, 49.5, 56.6, 58.3,\n",
       "        47.5, 37.2, 54. , 45.3, 70. , 44.6],\n",
       "       [60.9, 54.6, 45.6, 52.7, 35. , 38.5, 40.3, 64.6, 53.1, 39. , 57.9,\n",
       "        50.1, 47. , 38.3, 48.1, 49.4, 32.6, 44.5, 61.8, 33.3, 50.5, 61.5,\n",
       "        57.2, 42.7, 45.1, 53.8, 47.4, 43.7, 47. , 45.4, 56.5, 49.3, 53. ,\n",
       "        44. , 55.3, 51.8, 64.1, 39. , 42.6, 51.7, 53.4, 43.1, 51.8, 37.1,\n",
       "        53.1, 48. , 72.6, 42.9, 58.7, 46.7],\n",
       "       [39. , 56. , 54.8, 60.2, 59.4, 59.4, 49.9, 61.3, 53.8, 56.5, 62.9,\n",
       "        63. , 51. , 51. , 48.4, 60.5, 69.2, 45.1, 40.5, 62.1, 53.9, 70.1,\n",
       "        51.2, 54.5, 57.4, 51.2, 46.3, 51.8, 50.3, 76.2, 54.6, 46.7, 57.5,\n",
       "        47.6, 69.2, 52.1, 57.2, 34.5, 58.5, 50.1, 44.9, 57.2, 62.2, 41.6,\n",
       "        43.4, 36.3, 46.5, 38.6, 33.9, 45.5],\n",
       "       [43. , 56.6, 76.2, 54. , 44.8, 45.2, 44.1, 55.7, 54.6, 48.6, 36.2,\n",
       "        51.9, 62. , 60.3, 53.7, 34.6, 32. , 41.8, 66.9, 49.8, 52.7, 43.3,\n",
       "        57.9, 56.9, 50.3, 50.3, 49.8, 51.3, 49.6, 58.5, 62. , 65.1, 54.7,\n",
       "        51.7, 45.4, 38.3, 39.1, 37.5, 43.3, 71.4, 55.7, 53.7, 48.1, 48.1,\n",
       "        79.7, 58.3, 45.8, 48. , 45.1, 53.3],\n",
       "       [62.8, 42.6, 31.2, 55.3, 45.1, 51.7, 61. , 55.1, 45.4, 48.9, 51. ,\n",
       "        33.5, 58.9, 46. , 39.8, 46.6, 57. , 54.7, 45.8, 47.3, 53.2, 55.1,\n",
       "        53.5, 70.3, 64. , 39.6, 57.9, 41.5, 49.9, 52.8, 43.3, 54.8, 44.8,\n",
       "        40.2, 53.3, 57.9, 42.1, 42.2, 36.8, 52.7, 61.2, 44.1, 34.5, 58.1,\n",
       "        55.3, 48.8, 49.3, 56.5, 55.3, 37.7],\n",
       "       [52.5, 48.7, 53.4, 59.6, 43.2, 32.5, 58.5, 35.7, 56.4, 62.7, 45.6,\n",
       "        48.4, 44.1, 41.5, 64.6, 56.3, 55.8, 49. , 52.3, 67.2, 42.1, 37.5,\n",
       "        45. , 49. , 47.8, 44.4, 56.2, 27.4, 51.9, 48.9, 48.9, 33.3, 50.7,\n",
       "        44.1, 49.6, 45.8, 44.4, 37.1, 45.3, 59.7, 32.1, 37.2, 62.2, 45.8,\n",
       "        50.1, 51.4, 57.4, 54.9, 53.5, 57. ],\n",
       "       [55.6, 36.2, 33.1, 41.4, 48.4, 47. , 45.9, 49.5, 43.6, 41.7, 57. ,\n",
       "        64.2, 55.5, 61.9, 43.1, 34.9, 56.9, 44.3, 43.1, 59.4, 50.3, 48.7,\n",
       "        48.3, 46.7, 53.5, 67.7, 47.5, 62.9, 40.4, 48.8, 58.1, 39.7, 36. ,\n",
       "        46.2, 56.1, 48.2, 44.1, 42.2, 39.4, 51.1, 49.6, 47.7, 48.4, 56.8,\n",
       "        25.4, 52.9, 47.4, 44.1, 56.5, 48.8],\n",
       "       [62.3, 55.5, 53.5, 46.4, 48. , 50. , 56.7, 60.3, 47.3, 54. , 32.6,\n",
       "        59.4, 55.7, 43.3, 54.5, 51.1, 66.9, 51.4, 41.9, 55.4, 39. , 53.9,\n",
       "        42.4, 47.1, 56.4, 62.9, 43.5, 44.1, 37.2, 52.4, 60. , 53.2, 52.2,\n",
       "        47.6, 59.9, 46.4, 36.9, 62.8, 50.3, 34.6, 47.9, 50.1, 48.4, 53.2,\n",
       "        51.2, 55.9, 41.3, 43.1, 34.6, 57.9],\n",
       "       [52.3, 56.9, 39. , 43.8, 58.8, 63.4, 30.2, 53.7, 32.4, 38.5, 65.7,\n",
       "        34.9, 43.3, 44.3, 71.7, 49. , 52.6, 51.2, 36.7, 43.1, 54.4, 44.7,\n",
       "        38.9, 51.3, 58.1, 47.4, 57.3, 26. , 36.4, 37.8, 36.2, 50.1, 54.5,\n",
       "        60.4, 55.1, 59.4, 66.4, 45.9, 52.4, 54.3, 38.4, 43.7, 63.2, 60.5,\n",
       "        36.1, 36.9, 68.3, 50. , 65.5, 59.8],\n",
       "       [55.7, 68. , 52.6, 50.3, 27.5, 36.8, 37.5, 30.8, 47.5, 54.3, 54.7,\n",
       "        34.2, 45.7, 51.9, 47.8, 52.3, 50.1, 39.3, 53.5, 55.5, 51.7, 41.9,\n",
       "        45.8, 40.9, 56.5, 50.7, 60.6, 34.1, 54.7, 56. , 44.7, 65.3, 55.2,\n",
       "        65. , 33.2, 41.9, 44.5, 43.9, 57.2, 60.4, 44.1, 42.2, 65.5, 58.8,\n",
       "        51.9, 58.2, 40.4, 55.2, 57. , 56.5],\n",
       "       [51.9, 36.2, 51.4, 57.5, 53.9, 56.8, 52.9, 46.5, 50.2, 47.1, 40.9,\n",
       "        41.2, 44.3, 53. , 41.4, 51.5, 36.9, 50.5, 50.3, 40.3, 46.7, 49.5,\n",
       "        60.1, 58.7, 47.4, 47.4, 40.1, 59.6, 53.9, 55.9, 48.9, 48.4, 48.9,\n",
       "        40.4, 55. , 42.9, 41.3, 39.8, 42.6, 54.1, 63.8, 60.7, 36.2, 41.8,\n",
       "        36.2, 37.9, 43.7, 39.5, 29.9, 48.8],\n",
       "       [51.2, 36.3, 65.3, 40.1, 51. , 51.7, 45.5, 54.2, 40.4, 64.1, 39.1,\n",
       "        51. , 54. , 64.6, 47.1, 53.6, 63.7, 55.9, 42.9, 65.8, 63.7, 52. ,\n",
       "        32. , 50.1, 49. , 55.1, 39.7, 65.5, 43.7, 59.7, 59. , 41.8, 71.9,\n",
       "        59.6, 52.9, 63.7, 43.7, 49.5, 53.6, 40.7, 35.6, 61.5, 55.5, 41.9,\n",
       "        51.2, 51.3, 50. , 55.4, 46.7, 44.8],\n",
       "       [47.1, 42.9, 69.6, 48.4, 21.9, 52.7, 44.3, 45.3, 54.6, 48. , 54.6,\n",
       "        45.2, 45. , 31.9, 49.2, 47.5, 54.3, 49. , 55.1, 47.7, 36.8, 61.1,\n",
       "        40.2, 52.6, 39.9, 64.5, 44.1, 38.7, 42.9, 46.3, 64.4, 45.2, 33.3,\n",
       "        66. , 28.8, 62. , 38.9, 47.9, 48.5, 44. , 55.8, 50. , 55.8, 54.9,\n",
       "        69.3, 38.1, 57. , 43.3, 43.7, 47.9],\n",
       "       [38.9, 43.4, 49.4, 65.8, 49.3, 44.1, 44.5, 42.2, 74.1, 61.6, 47.6,\n",
       "        48.8, 48.9, 54.3, 60.2, 44.9, 57.8, 40.2, 50.1, 50.8, 56.6, 49.7,\n",
       "        32.6, 50.2, 40.4, 65.8, 45.1, 20.4, 48.1, 40.5, 29.8, 47.9, 51.4,\n",
       "        43.9, 57.7, 60.9, 49.9, 45.5, 61.2, 47.8, 62.2, 49.4, 55.1, 45.1,\n",
       "        32.9, 46.7, 46.7, 57.7, 33.3, 54.1],\n",
       "       [43.6, 57.7, 48.5, 53. , 56.2, 53.4, 37.9, 48.5, 56. , 36.1, 50.2,\n",
       "        48.4, 49.9, 34.9, 46.2, 48.8, 51.5, 45.5, 42. , 31.4, 63.7, 52.4,\n",
       "        59.9, 43.3, 38. , 40.7, 39.7, 49.8, 55.5, 52. , 41.9, 53.6, 53.2,\n",
       "        51.8, 51.7, 57.2, 67.8, 54.4, 40.1, 42.9, 36.2, 48.2, 44.1, 41.2,\n",
       "        46. , 36.4, 39.3, 47.2, 36.3, 41.4]])"
      ]
     },
     "execution_count": 11,
     "metadata": {},
     "output_type": "execute_result"
    }
   ],
   "source": [
    "np.array(np.split(A,10)).mean(axis=0)"
   ]
  },
  {
   "cell_type": "markdown",
   "metadata": {},
   "source": [
    "# Задание 2.10 (4 балла)\n",
    "\n",
    "\"Разверните\" массив `A` в одномерный массив. Оставьте в нём только уникальные элементы в том же порядке, в котором они встречаются в массиве. Используйте [np.unique()](https://numpy.org/doc/stable/reference/generated/numpy.unique.html)"
   ]
  },
  {
   "cell_type": "code",
   "execution_count": 12,
   "metadata": {},
   "outputs": [
    {
     "data": {
      "text/plain": [
       "array([78, 94, 85, 18, 53, 13,  4, 37, 22, 15, 34, 70, 27, 81, 12, 14, 73,\n",
       "       93, 66, 41, 50, 48,  7, 71, 23, 59, 32, 91, 86, 49, 69, 54, 55, 88,\n",
       "       90,  1, 58, 51, 29, 43, 82, 67, 76, 31, 45,  9, 28, 68, 39, 25, 46,\n",
       "       77, 89,  2, 87, 17, 42, 24, 97, 80, 21, 19, 26, 62, 35, 92, 30, 47,\n",
       "       79,  8, 84, 20, 10, 40, 11, 57, 83, 61, 16, 98, 36, 52, 63, 38, 56,\n",
       "        0, 44, 96, 99, 95, 33, 60, 72, 75,  5, 64, 74,  3,  6, 65])"
      ]
     },
     "execution_count": 12,
     "metadata": {},
     "output_type": "execute_result"
    }
   ],
   "source": [
    "unique, idxs = np.unique(A,return_index=True)\n",
    "unique[np.argsort(idxs)]"
   ]
  },
  {
   "cell_type": "markdown",
   "metadata": {},
   "source": [
    "# Задание 2.11 (3 балла)\n",
    "\n",
    "Создайте одномерный массив размерности $200$, в котором каждый элемент - евклидово расстояние между соответствующей строкой `A` и \"средней\" строкой `A`"
   ]
  },
  {
   "cell_type": "code",
   "execution_count": 13,
   "metadata": {},
   "outputs": [
    {
     "data": {
      "text/plain": [
       "2883.027404483003"
      ]
     },
     "execution_count": 13,
     "metadata": {},
     "output_type": "execute_result"
    }
   ],
   "source": [
    "#new_arr = np.linalg.norm(A-A.mean(axis=0))\n",
    "mean_row = A.mean(axis=0)\n",
    "np.linalg.norm(A-mean_row)"
   ]
  },
  {
   "cell_type": "markdown",
   "metadata": {},
   "source": [
    "# Задание 2.12 (2 балла)\n",
    "\n",
    "Создайте новый массив, который состоит из элементов `A`, измененных по следующим правилам:\n",
    "- если элемент меньше $50$, то он умножается на $2$\n",
    "- в противном случае он умножается на $3$\n",
    "\n",
    "Используйте [np.where()](https://numpy.org/doc/stable/reference/generated/numpy.where.html)"
   ]
  },
  {
   "cell_type": "code",
   "execution_count": 14,
   "metadata": {},
   "outputs": [
    {
     "data": {
      "text/plain": [
       "array([[156, 188, 170, ...,  36, 176, 116],\n",
       "       [102,  54,  58, ..., 194,  36,  56],\n",
       "       [164, 160,  42, ...,  80,  22, 114],\n",
       "       ...,\n",
       "       [ 50,   9, 136, ..., 178,  88,  52],\n",
       "       [180, 162, 160, ..., 110,  24,  40],\n",
       "       [102, 174, 100, ...,   9, 106,  52]])"
      ]
     },
     "execution_count": 14,
     "metadata": {},
     "output_type": "execute_result"
    }
   ],
   "source": [
    "np.where(A < 5, 3*A, 2*A)"
   ]
  },
  {
   "cell_type": "markdown",
   "metadata": {},
   "source": [
    "# Задание 2.13 (7 баллов)\n",
    "\n",
    "Разверните массив `A` в одномерный массив. Создайте новый массив той же размерности, состоящий из суммы скользящих средних по окну $3$, $5$, $10$.\n",
    "\n",
    "*Tip: реализуйте функцию, которая считает скользящее среднее. Используйте [np.cumsum()](https://numpy.org/doc/stable/reference/generated/numpy.cumsum.html) или [np.convolve()](https://numpy.org/doc/stable/reference/generated/numpy.convolve.html)*"
   ]
  },
  {
   "cell_type": "code",
   "execution_count": 15,
   "metadata": {},
   "outputs": [
    {
     "data": {
      "text/plain": [
       "array([  0.        ,   0.        ,   0.        , ...,  91.73333333,\n",
       "       104.5       ,  91.83333333])"
      ]
     },
     "execution_count": 15,
     "metadata": {},
     "output_type": "execute_result"
    }
   ],
   "source": [
    "def moving_average(a, n=3) :\n",
    "    a = a.flatten()\n",
    "    ret = np.cumsum(a, dtype=float)\n",
    "    ret[n:] = ret[n:] - ret[:-n]\n",
    "    ret[:n] = 0\n",
    "    return ret / max(n,1)\n",
    "\n",
    "moving_average(A,10) + moving_average(A,3) + moving_average(A,5) "
   ]
  },
  {
   "cell_type": "markdown",
   "metadata": {},
   "source": [
    "# Задание 2.14 (8 баллов)\n",
    "\n",
    "Постройте график функции $$f(x) = (5  \\sin(2x) - \\cos^2(x) - 1 + |x^3| - x^2) / (x^2 + 1)$$  \n",
    "\n",
    "и производной от этой функции.  Найдите минимум с помощью `scipy` и обозначьте его на графике. На этой же оси постройте графики скользящего среднего этой функции с окном $1$, $2$, $5$."
   ]
  },
  {
   "cell_type": "code",
   "execution_count": 16,
   "metadata": {},
   "outputs": [],
   "source": [
    "import scipy\n",
    "from scipy import optimize\n",
    "from scipy.misc import derivative"
   ]
  },
  {
   "cell_type": "code",
   "execution_count": 17,
   "metadata": {},
   "outputs": [
    {
     "data": {
      "image/png": "[encoded data removed]",
      "text/plain": [
       "<Figure size 640x480 with 1 Axes>"
      ]
     },
     "metadata": {},
     "output_type": "display_data"
    }
   ],
   "source": [
    "import matplotlib.pyplot as plt\n",
    "\n",
    "def func(x):\n",
    "    return (5 * np.sin(2*x) - np.cos(x)**2 - 1 + np.abs(x**3) - x*x)/(x*x + 1)\n",
    "\n",
    "def calc_deriv(f,x_arr):\n",
    "    res = []\n",
    "    for el in x_arr:\n",
    "        res.append(derivative(f,el))\n",
    "    return res\n",
    "\n",
    "\n",
    "х = np.linspace(-5*np.pi, 5*np.pi, 100)\n",
    "res = optimize.minimize(func,x0=0)\n",
    "min_y = res['fun']\n",
    "min_x = res['x'][0]\n",
    "plt.plot(х,func(х), label = \"func\")\n",
    "plt.plot(min_x,min_y,'ro') \n",
    "ma1 = moving_average(func(х),1)\n",
    "ma2 = moving_average(func(х),2)\n",
    "ma5 = moving_average(func(х),5)\n",
    "deriv = calc_deriv(func,х)\n",
    "plt.plot(х,ma1, label = \"moving avg, window=1\") \n",
    "plt.plot(х,ma2, label = \"moving avg, window=2\") \n",
    "plt.plot(х,ma5, label = \"moving avg, window=5\")\n",
    "plt.plot(х,deriv, label = \"derivative\")\n",
    "plt.legend()\n",
    "plt.show()"
   ]
  },
  {
   "cell_type": "markdown",
   "metadata": {},
   "source": [
    "# Задание 2.15 (10 баллов)\n",
    "\n",
    "Есть следующий алгоритм семплинирования, на вход функции подается вектор из целых положительных чисел и число семплов."
   ]
  },
  {
   "cell_type": "code",
   "execution_count": 18,
   "metadata": {},
   "outputs": [],
   "source": [
    "from typing import List \n",
    "\n",
    "def sample(x: List[int], c: int) -> List[int]:\n",
    "    assert len(x) > 0\n",
    "    \n",
    "    s = np.sum(x)\n",
    "    res = []\n",
    "    for _ in range(c):\n",
    "        val = s * np.random.random()\n",
    "        cur, idx = 0, 0        \n",
    "        while cur + x[idx] <= val:\n",
    "            cur += x[idx]\n",
    "            idx += 1\n",
    "            \n",
    "        res.append(idx)\n",
    "    return res\n",
    "\n",
    "\n",
    "def numpy_sample(x: List[int], c: int) -> List[int]:\n",
    "    assert len(x) > 0\n",
    "    \n",
    "    return np.random.choice(x, c)\n"
   ]
  },
  {
   "cell_type": "markdown",
   "metadata": {},
   "source": [
    "Реализуйте данный алгоритм более оптимальным способом на массивах `numpy`, без использования циклов. Проверьте корректность и идентичность алгоритмов семплирования с помощью статистических тестов."
   ]
  },
  {
   "cell_type": "code",
   "execution_count": 19,
   "metadata": {},
   "outputs": [],
   "source": [
    "from scipy.stats import ttest_ind\n",
    "import scipy\n",
    "norm_vals = np.array(scipy.stats.norm(10, 5).rvs(100))"
   ]
  },
  {
   "cell_type": "code",
   "execution_count": 20,
   "metadata": {},
   "outputs": [],
   "source": [
    "s = sample(norm_vals, 10)\n",
    "numpy_s = numpy_sample(norm_vals, 10)"
   ]
  },
  {
   "cell_type": "code",
   "execution_count": 21,
   "metadata": {},
   "outputs": [
    {
     "name": "stdout",
     "output_type": "stream",
     "text": [
      "ttest_ind_from_stats: t = -4.13406  p = 0.00062318\n"
     ]
    }
   ],
   "source": [
    "stat, pvalue = ttest_ind(numpy_s,s)\n",
    "print(\"ttest_ind_from_stats: t = %g  p = %g\" % (stat, pvalue))"
   ]
  },
  {
   "cell_type": "markdown",
   "metadata": {},
   "source": [
    "# Задание 2.16 (5 баллов)\n",
    "\n",
    "Есть следующий алгоритм \"случайного блуждания\""
   ]
  },
  {
   "cell_type": "code",
   "execution_count": 22,
   "metadata": {},
   "outputs": [
    {
     "data": {
      "text/plain": [
       "1882"
      ]
     },
     "execution_count": 22,
     "metadata": {},
     "output_type": "execute_result"
    }
   ],
   "source": [
    "import random \n",
    "\n",
    "def walk(n: int):\n",
    "    cur_position = 0\n",
    "    for i in range(n):\n",
    "        cur_position += random.choice([-3, -1, 0, 2, 3])\n",
    "\n",
    "    return cur_position\n",
    "\n",
    "walk(10_000)"
   ]
  },
  {
   "cell_type": "code",
   "execution_count": 23,
   "metadata": {},
   "outputs": [
    {
     "data": {
      "text/plain": [
       "2185"
      ]
     },
     "execution_count": 23,
     "metadata": {},
     "output_type": "execute_result"
    }
   ],
   "source": [
    "def numpy_walk(n: int):\n",
    "    return np.sum(np.random.choice([-3, -1, 0, 2, 3],n))\n",
    "\n",
    "numpy_walk(10_000)"
   ]
  },
  {
   "cell_type": "code",
   "execution_count": 24,
   "metadata": {},
   "outputs": [
    {
     "name": "stdout",
     "output_type": "stream",
     "text": [
      "7.14 ms ± 257 µs per loop (mean ± std. dev. of 7 runs, 100 loops each)\n"
     ]
    }
   ],
   "source": [
    "%%timeit\n",
    "walk(10_000)"
   ]
  },
  {
   "cell_type": "code",
   "execution_count": 25,
   "metadata": {},
   "outputs": [
    {
     "name": "stdout",
     "output_type": "stream",
     "text": [
      "269 µs ± 20.2 µs per loop (mean ± std. dev. of 7 runs, 1,000 loops each)\n"
     ]
    }
   ],
   "source": [
    "%%timeit\n",
    "numpy_walk(10_000)"
   ]
  },
  {
   "cell_type": "markdown",
   "metadata": {},
   "source": [
    "Реализуйте более эффективную версию с помощью `numpy`, сравните производительность (используя, например, magic `timeit`). Воспользовавшись [kdeplot()](https://seaborn.pydata.org/generated/seaborn.kdeplot.html) или аналогами, постройте график распределения значений `walk(10_000)` на каком-то разумном запусков. "
   ]
  },
  {
   "cell_type": "code",
   "execution_count": 26,
   "metadata": {},
   "outputs": [
    {
     "data": {
      "text/plain": [
       "<AxesSubplot: ylabel='Density'>"
      ]
     },
     "execution_count": 26,
     "metadata": {},
     "output_type": "execute_result"
    },
    {
     "data": {
      "image/png": "[encoded data removed]",
      "text/plain": [
       "<Figure size 640x480 with 1 Axes>"
      ]
     },
     "metadata": {},
     "output_type": "display_data"
    }
   ],
   "source": [
    "import seaborn\n",
    "data = []\n",
    "for _ in range (5000):\n",
    "    data.append(numpy_walk(10_000))\n",
    "seaborn.kdeplot(data)"
   ]
  },
  {
   "cell_type": "markdown",
   "metadata": {},
   "source": [
    "# Задание 2.17 (5 баллов)\n",
    "\n",
    "Имеется функция, которая проделывает достаточно странные манипуляции с массивом `numpy`"
   ]
  },
  {
   "cell_type": "code",
   "execution_count": 27,
   "metadata": {},
   "outputs": [
    {
     "data": {
      "text/plain": [
       "0.20097296065617876"
      ]
     },
     "execution_count": 27,
     "metadata": {},
     "output_type": "execute_result"
    }
   ],
   "source": [
    "import numpy.typing as npt\n",
    "\n",
    "def strange_conv(a: npt.NDArray[np.float64]) -> np.float64:\n",
    "    x = a.shape[0]\n",
    "    y = a.shape[1]\n",
    "\n",
    "    t = 1.\n",
    "    for y in range(y - 5):\n",
    "        for x in range(x - 3):\n",
    "            c = 1.5 * a[y+1, x+2] - a[y+5, x+3] * a[y, x] + 0.2 * a[y+4, x]\n",
    "            t = 0.2 * t + 0.8 * c\n",
    "\n",
    "    return t\n",
    "\n",
    "\n",
    "a = np.random.random((10000, 10000))\n",
    "strange_conv(a)\n"
   ]
  },
  {
   "cell_type": "markdown",
   "metadata": {},
   "source": [
    "Оптимизируйте данную функцию с помощью (2 на выбор):\n",
    "- [Numba](https://numba.pydata.org)\n",
    "- `Cython` (+5 баллов)\n",
    "- [Taichi](https://github.com/taichi-dev/taichi) (+5 баллов)\n",
    "- `Pythran `[[1]](https://pythran.readthedocs.io/en/latest/), [[2]](https://serge-sans-paille.github.io/pythran-stories/pythran-tutorial.html) (+2 балла)\n",
    "\n",
    "Сравните производительность."
   ]
  },
  {
   "cell_type": "code",
   "execution_count": 28,
   "metadata": {},
   "outputs": [],
   "source": [
    "%load_ext Cython"
   ]
  },
  {
   "cell_type": "markdown",
   "metadata": {},
   "source": [
    "#### Сython:"
   ]
  },
  {
   "cell_type": "code",
   "execution_count": 29,
   "metadata": {},
   "outputs": [],
   "source": [
    "%%cython\n",
    "\n",
    "cimport numpy as np\n",
    "def strange_cython_conv(np.ndarray[double, ndim=2] a):\n",
    "    cdef int x,y\n",
    "    x = a.shape[0]\n",
    "    y = a.shape[1]\n",
    "\n",
    "    cdef t = 1.\n",
    "    for y in range(y - 5):\n",
    "        for x in range(x - 3):\n",
    "            c = 1.5 * a[y+1, x+2] - a[y+5, x+3] * a[y, x] + 0.2 * a[y+4, x]\n",
    "            t = 0.2 * t + 0.8 * c\n",
    "\n",
    "    return t\n",
    "\n"
   ]
  },
  {
   "cell_type": "markdown",
   "metadata": {},
   "source": [
    "#### Numba:"
   ]
  },
  {
   "cell_type": "code",
   "execution_count": 35,
   "metadata": {},
   "outputs": [],
   "source": [
    "from numba import njit\n",
    "\n",
    "@njit\n",
    "def strange_numba_conv(a: npt.NDArray[np.float64]) -> np.float64:\n",
    "    x = a.shape[0]\n",
    "    y = a.shape[1]\n",
    "\n",
    "    t = 1.\n",
    "    for y in range(y - 5):\n",
    "        for x in range(x - 3):\n",
    "            c = 1.5 * a[y+1, x+2] - a[y+5, x+3] * a[y, x] + 0.2 * a[y+4, x]\n",
    "            t = 0.2 * t + 0.8 * c\n",
    "\n",
    "    return t"
   ]
  },
  {
   "cell_type": "code",
   "execution_count": 31,
   "metadata": {},
   "outputs": [],
   "source": [
    "a = np.random.random((10000, 10000))\n"
   ]
  },
  {
   "cell_type": "code",
   "execution_count": 32,
   "metadata": {},
   "outputs": [
    {
     "name": "stdout",
     "output_type": "stream",
     "text": [
      "25.1 s ± 869 ms per loop (mean ± std. dev. of 7 runs, 1 loop each)\n"
     ]
    }
   ],
   "source": [
    "%%timeit\n",
    "strange_conv(a)"
   ]
  },
  {
   "cell_type": "code",
   "execution_count": 37,
   "metadata": {},
   "outputs": [
    {
     "name": "stdout",
     "output_type": "stream",
     "text": [
      "825 ms ± 33 ms per loop (mean ± std. dev. of 7 runs, 1 loop each)\n"
     ]
    }
   ],
   "source": [
    "%%timeit\n",
    "strange_cython_conv(a)"
   ]
  },
  {
   "cell_type": "code",
   "execution_count": 36,
   "metadata": {},
   "outputs": [
    {
     "name": "stdout",
     "output_type": "stream",
     "text": [
      "31.1 ms ± 4.98 ms per loop (mean ± std. dev. of 7 runs, 1 loop each)\n"
     ]
    }
   ],
   "source": [
    "%%timeit\n",
    "strange_numba_conv(a)"
   ]
  }
 ],
 "metadata": {
  "kernelspec": {
   "display_name": "Python 3.10.8 64-bit",
   "language": "python",
   "name": "python3"
  },
  "language_info": {
   "codemirror_mode": {
    "name": "ipython",
    "version": 3
   },
   "file_extension": ".py",
   "mimetype": "text/x-python",
   "name": "python",
   "nbconvert_exporter": "python",
   "pygments_lexer": "ipython3",
   "version": "3.10.8"
  },
  "orig_nbformat": 4,
  "vscode": {
   "interpreter": {
    "hash": "225e727bf6527ac372db600e53beb31b5af8a49e06940289e5b9716853b5f8c1"
   }
  }
 },
 "nbformat": 4,
 "nbformat_minor": 2
}
